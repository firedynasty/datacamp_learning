{
 "cells": [
  {
   "cell_type": "code",
   "execution_count": 2,
   "id": "ede02cf5",
   "metadata": {},
   "outputs": [
    {
     "name": "stdout",
     "output_type": "stream",
     "text": [
      "Patrons Table:\n",
      "(54378, 'Izzy', 2012, 9.86)\n",
      "(94722, 'Maham', 2020, 0.0)\n",
      "(45783, 'Jasmin', 2022, 2.05)\n",
      "(90123, 'James', 1989, 0.0)\n",
      "\n",
      "Checkouts Table:\n",
      "(567, '2022-05-13', '2022-05-27', 54378, 638)\n",
      "(568, '2022-06-10', '2022-06-24', 54378, 322)\n",
      "(569, '2022-06-27', '2022-07-11', 45783, 156)\n",
      "(570, '2022-08-14', '2022-08-28', 90123, 912)\n"
     ]
    }
   ],
   "source": [
    "import pandas as pd\n",
    "import sqlite3\n",
    "\n",
    "# Create DataFrame for patrons\n",
    "patrons_data = {\n",
    "    'card_num': [54378, 94722, 45783, 90123],\n",
    "    'name': ['Izzy', 'Maham', 'Jasmin', 'James'],\n",
    "    'member_year': [2012, 2020, 2022, 1989],\n",
    "    'total_fine': [9.86, 0, 2.05, 0]\n",
    "}\n",
    "\n",
    "patrons_df = pd.DataFrame(patrons_data)\n",
    "\n",
    "# Create DataFrame for checkouts\n",
    "checkouts_data = {\n",
    "    'id': [567, 568, 569, 570],\n",
    "    'start_date': ['2022-05-13', '2022-06-10', '2022-06-27', '2022-08-14'],\n",
    "    'due_date': ['2022-05-27', '2022-06-24', '2022-07-11', '2022-08-28'],\n",
    "    'card_num': [54378, 54378, 45783, 90123],\n",
    "    'book_id': [638, 322, 156, 912]\n",
    "}\n",
    "\n",
    "checkouts_df = pd.DataFrame(checkouts_data)\n",
    "\n",
    "# Connect to SQLite database (or create it)\n",
    "conn = sqlite3.connect('library.db')\n",
    "\n",
    "# Convert DataFrames to SQLite tables\n",
    "patrons_df.to_sql('patrons', conn, if_exists='replace', index=False)\n",
    "checkouts_df.to_sql('checkouts', conn, if_exists='replace', index=False)\n",
    "\n",
    "# Verify the data by querying the tables\n",
    "cursor = conn.cursor()\n",
    "print(\"Patrons Table:\")\n",
    "cursor.execute('SELECT * FROM patrons')\n",
    "for row in cursor.fetchall():\n",
    "    print(row)\n",
    "\n",
    "print(\"\\nCheckouts Table:\")\n",
    "cursor.execute('SELECT * FROM checkouts')\n",
    "for row in cursor.fetchall():\n",
    "    print(row)\n",
    "\n",
    "# Close the connection\n",
    "conn.close()"
   ]
  },
  {
   "cell_type": "code",
   "execution_count": 8,
   "id": "3333361a",
   "metadata": {},
   "outputs": [
    {
     "name": "stdout",
     "output_type": "stream",
     "text": [
      "Books Table:\n",
      "Field names: ['id', 'title', 'author', 'genre', 'pub_year']\n",
      "(638, 'Being Mortal', 'Atul Gawande', 'Non-Fiction', 2015)\n",
      "(912, 'Educated', 'Tara Westover', 'Non-Fiction', 2018)\n",
      "(322, 'Night', 'Elie Wiesel', 'Non-Fiction', 1956)\n",
      "(156, 'Where the Wild Things Are', 'Maurice Sendak', 'Childrens', 1963)\n"
     ]
    }
   ],
   "source": [
    "import pandas as pd\n",
    "import sqlite3\n",
    "\n",
    "# Connect to SQLite database (or create it)\n",
    "conn = sqlite3.connect('library.db')\n",
    "\n",
    "# Data for the books DataFrame\n",
    "books_data = {\n",
    "    'id': [638, 912, 322, 156],\n",
    "    'title': ['Being Mortal', 'Educated', 'Night', 'Where the Wild Things Are'],\n",
    "    'author': ['Atul Gawande', 'Tara Westover', 'Elie Wiesel', 'Maurice Sendak'],\n",
    "    'genre': ['Non-Fiction', 'Non-Fiction', 'Non-Fiction', 'Childrens'],\n",
    "    'pub_year': [2015, 2018, 1956, 1963]\n",
    "}\n",
    "\n",
    "# Creating the books DataFrame\n",
    "books_df = pd.DataFrame(books_data)\n",
    "books_df.to_sql('books', conn, if_exists='replace', index=False)\n",
    "\n",
    "# Verify the data by querying the tables\n",
    "cursor = conn.cursor()\n",
    "print(\"Books Table:\")\n",
    "cursor.execute('SELECT * FROM books')\n",
    "\n",
    "# Step 6: Get the field names\n",
    "field_names = [description[0] for description in cursor.description]\n",
    "\n",
    "# Step 7: Print the field names\n",
    "print(\"Field names:\", field_names)\n",
    "\n",
    "for row in cursor.fetchall():\n",
    "    print(row)\n",
    "    \n",
    "# Close the connection\n",
    "conn.close()"
   ]
  },
  {
   "cell_type": "code",
   "execution_count": 3,
   "id": "54e73cf0",
   "metadata": {},
   "outputs": [
    {
     "name": "stdout",
     "output_type": "stream",
     "text": [
      "(54378, 'Izzy', 2012, 9.86)\n",
      "(94722, 'Maham', 2020, 0.0)\n",
      "(45783, 'Jasmin', 2022, 2.05)\n",
      "(90123, 'James', 1989, 0.0)\n"
     ]
    }
   ],
   "source": [
    "import sqlite3\n",
    "\n",
    "# Step 2: Connect to SQLite database named 'library.db'\n",
    "conn = sqlite3.connect('library.db')\n",
    "\n",
    "# Step 3: Create a cursor object\n",
    "cursor = conn.cursor()\n",
    "\n",
    "# Step 4: Execute the query to select all data from the 'patrons' table\n",
    "cursor.execute('SELECT * FROM patrons')\n",
    "\n",
    "# Step 5: Fetch all rows from the executed query\n",
    "rows = cursor.fetchall()\n",
    "\n",
    "# Step 6: Print the fetched rows\n",
    "for row in rows:\n",
    "    print(row)\n",
    "\n",
    "# Step 7: Close the connection\n",
    "conn.close()"
   ]
  },
  {
   "cell_type": "code",
   "execution_count": 4,
   "id": "616c9e41",
   "metadata": {},
   "outputs": [
    {
     "name": "stdout",
     "output_type": "stream",
     "text": [
      "(567, '2022-05-13', '2022-05-27', 54378, 638)\n",
      "(568, '2022-06-10', '2022-06-24', 54378, 322)\n",
      "(569, '2022-06-27', '2022-07-11', 45783, 156)\n",
      "(570, '2022-08-14', '2022-08-28', 90123, 912)\n"
     ]
    }
   ],
   "source": [
    "import sqlite3\n",
    "\n",
    "# Step 2: Connect to SQLite database named 'library.db'\n",
    "conn = sqlite3.connect('library.db')\n",
    "\n",
    "# Step 3: Create a cursor object\n",
    "cursor = conn.cursor()\n",
    "\n",
    "# Step 4: Execute the query to select all data from the 'patrons' table\n",
    "cursor.execute('SELECT * FROM checkouts')\n",
    "\n",
    "# Step 5: Fetch all rows from the executed query\n",
    "rows = cursor.fetchall()\n",
    "\n",
    "# Step 6: Print the fetched rows\n",
    "for row in rows:\n",
    "    print(row)\n",
    "\n",
    "# Step 7: Close the connection\n",
    "conn.close()"
   ]
  },
  {
   "cell_type": "code",
   "execution_count": 5,
   "id": "320d5189",
   "metadata": {},
   "outputs": [
    {
     "name": "stdout",
     "output_type": "stream",
     "text": [
      "Field names: ['card_num', 'name', 'member_year', 'total_fine']\n",
      "(54378, 'Izzy', 2012, 9.86)\n",
      "(94722, 'Maham', 2020, 0.0)\n",
      "(45783, 'Jasmin', 2022, 2.05)\n",
      "(90123, 'James', 1989, 0.0)\n"
     ]
    }
   ],
   "source": [
    "import sqlite3\n",
    "\n",
    "# Step 2: Connect to SQLite database named 'library.db'\n",
    "conn = sqlite3.connect('library.db')\n",
    "\n",
    "# Step 3: Create a cursor object\n",
    "cursor = conn.cursor()\n",
    "\n",
    "# Step 4: Execute the query to select all data from the 'patrons' table\n",
    "cursor.execute('SELECT * FROM patrons')\n",
    "\n",
    "# Step 5: Fetch all rows from the executed query\n",
    "rows = cursor.fetchall()\n",
    "\n",
    "# Step 6: Get the field names\n",
    "field_names = [description[0] for description in cursor.description]\n",
    "\n",
    "# Step 7: Print the field names\n",
    "print(\"Field names:\", field_names)\n",
    "\n",
    "# Step 8: Print the fetched rows\n",
    "for row in rows:\n",
    "    print(row)\n",
    "\n",
    "# Step 9: Close the connection\n",
    "conn.close()"
   ]
  },
  {
   "cell_type": "code",
   "execution_count": 6,
   "id": "3bade800",
   "metadata": {},
   "outputs": [
    {
     "name": "stdout",
     "output_type": "stream",
     "text": [
      "Field names: ['id', 'start_date', 'due_date', 'card_num', 'book_id']\n",
      "(567, '2022-05-13', '2022-05-27', 54378, 638)\n",
      "(568, '2022-06-10', '2022-06-24', 54378, 322)\n",
      "(569, '2022-06-27', '2022-07-11', 45783, 156)\n",
      "(570, '2022-08-14', '2022-08-28', 90123, 912)\n"
     ]
    }
   ],
   "source": [
    "import sqlite3\n",
    "\n",
    "# Step 2: Connect to SQLite database named 'library.db'\n",
    "conn = sqlite3.connect('library.db')\n",
    "\n",
    "# Step 3: Create a cursor object\n",
    "cursor = conn.cursor()\n",
    "\n",
    "# Step 4: Execute the query to select all data from the 'patrons' table\n",
    "cursor.execute('SELECT * FROM checkouts')\n",
    "\n",
    "# Step 5: Fetch all rows from the executed query\n",
    "rows = cursor.fetchall()\n",
    "\n",
    "# Step 6: Get the field names\n",
    "field_names = [description[0] for description in cursor.description]\n",
    "\n",
    "# Step 7: Print the field names\n",
    "print(\"Field names:\", field_names)\n",
    "\n",
    "# Step 8: Print the fetched rows\n",
    "for row in rows:\n",
    "    print(row)\n",
    "\n",
    "# Step 9: Close the connection\n",
    "conn.close()"
   ]
  },
  {
   "cell_type": "code",
   "execution_count": 2,
   "id": "9e3a6099",
   "metadata": {},
   "outputs": [
    {
     "name": "stdout",
     "output_type": "stream",
     "text": [
      "Field names:\n",
      "['id', 'title', 'author', 'genre', 'pub_year']\n",
      "(638, 'Being Mortal', 'Atul Gawande', 'Non-Fiction', 2015)\n",
      "(912, 'Educated', 'Tara Westover', 'Non-Fiction', 2018)\n",
      "(322, 'Night', 'Elie Wiesel', 'Non-Fiction', 1956)\n",
      "(156, 'Where the Wild Things Are', 'Maurice Sendak', 'Childrens', 1963)\n"
     ]
    }
   ],
   "source": [
    "import sqlite3\n",
    "\n",
    "# Step 2: Connect to SQLite database named 'library.db'\n",
    "conn = sqlite3.connect('library.db')\n",
    "\n",
    "# Step 3: Create a cursor object\n",
    "cursor = conn.cursor()\n",
    "\n",
    "# Step 4: Execute the query to select all data from the 'patrons' table\n",
    "cursor.execute('SELECT * FROM books')\n",
    "\n",
    "# Step 5: Fetch all rows from the executed query\n",
    "rows = cursor.fetchall()\n",
    "\n",
    "# Step 6: Get the field names\n",
    "field_names = [description[0] for description in cursor.description]\n",
    "\n",
    "# Step 7: Print the field names\n",
    "print(\"Field names:\")\n",
    "print(field_names)\n",
    "\n",
    "# Step 8: Print the fetched rows\n",
    "for row in rows:\n",
    "    print(row)\n",
    "\n",
    "# Step 9: Close the connection\n",
    "conn.close()"
   ]
  },
  {
   "cell_type": "code",
   "execution_count": 3,
   "id": "dddfedcf",
   "metadata": {
    "scrolled": true
   },
   "outputs": [
    {
     "name": "stdout",
     "output_type": "stream",
     "text": [
      "Schema of 'books' table:\n",
      "Column ID | Name | Type | Not Null | Default Value | Primary Key\n",
      "(0, 'id', 'INTEGER', 0, None, 0)\n",
      "(1, 'title', 'TEXT', 0, None, 0)\n",
      "(2, 'author', 'TEXT', 0, None, 0)\n",
      "(3, 'genre', 'TEXT', 0, None, 0)\n",
      "(4, 'pub_year', 'INTEGER', 0, None, 0)\n",
      "\n",
      "Field names:\n",
      "['id', 'title', 'author', 'genre', 'pub_year']\n",
      "\n",
      "Data in 'books' table:\n",
      "(638, 'Being Mortal', 'Atul Gawande', 'Non-Fiction', 2015)\n",
      "(912, 'Educated', 'Tara Westover', 'Non-Fiction', 2018)\n",
      "(322, 'Night', 'Elie Wiesel', 'Non-Fiction', 1956)\n",
      "(156, 'Where the Wild Things Are', 'Maurice Sendak', 'Childrens', 1963)\n"
     ]
    }
   ],
   "source": [
    "#looking at schema:\n",
    "\n",
    "import sqlite3\n",
    "\n",
    "# Step 2: Connect to SQLite database named 'library.db'\n",
    "conn = sqlite3.connect('library.db')\n",
    "\n",
    "# Step 3: Create a cursor object\n",
    "cursor = conn.cursor()\n",
    "\n",
    "# Step 4: Execute the query to get the schema of the 'books' table\n",
    "cursor.execute('PRAGMA table_info(books)')\n",
    "\n",
    "# Step 5: Fetch all rows from the executed query\n",
    "schema_info = cursor.fetchall()\n",
    "\n",
    "# Step 6: Print the schema information\n",
    "print(\"Schema of 'books' table:\")\n",
    "print(\"Column ID | Name | Type | Not Null | Default Value | Primary Key\")\n",
    "for column in schema_info:\n",
    "    print(column)\n",
    "\n",
    "# Step 7: Execute the query to select all data from the 'books' table\n",
    "cursor.execute('SELECT * FROM books')\n",
    "\n",
    "# Step 8: Fetch all rows from the executed query\n",
    "rows = cursor.fetchall()\n",
    "\n",
    "# Step 9: Get the field names\n",
    "field_names = [description[0] for description in cursor.description]\n",
    "\n",
    "# Step 10: Print the field names\n",
    "print(\"\\nField names:\")\n",
    "print(field_names)\n",
    "\n",
    "# Step 11: Print the fetched rows\n",
    "print(\"\\nData in 'books' table:\")\n",
    "for row in rows:\n",
    "    print(row)\n",
    "\n",
    "# Step 12: Close the connection\n",
    "conn.close()\n"
   ]
  },
  {
   "cell_type": "code",
   "execution_count": 1,
   "id": "4af633c5",
   "metadata": {},
   "outputs": [
    {
     "name": "stdout",
     "output_type": "stream",
     "text": [
      "Employees Table:\n",
      "(1, 101, 2010)\n",
      "(2, 102, 2012)\n",
      "(3, 101, 2010)\n",
      "(4, 103, 2015)\n",
      "(5, 102, 2012)\n"
     ]
    }
   ],
   "source": [
    "import pandas as pd\n",
    "import sqlite3\n",
    "\n",
    "# Create DataFrame for employees\n",
    "employees_data = {\n",
    "    'emp_id': [1, 2, 3, 4, 5],\n",
    "    'dept_id': [101, 102, 101, 103, 102],\n",
    "    'year_hired': [2010, 2012, 2010, 2015, 2012]\n",
    "}\n",
    "\n",
    "employees_df = pd.DataFrame(employees_data)\n",
    "\n",
    "# Connect to SQLite database (or create it)\n",
    "conn = sqlite3.connect('company.db')\n",
    "\n",
    "# Convert DataFrame to SQLite table\n",
    "employees_df.to_sql('employees', conn, if_exists='replace', index=False)\n",
    "\n",
    "# Verify the data by querying the table\n",
    "cursor = conn.cursor()\n",
    "print(\"Employees Table:\")\n",
    "cursor.execute('SELECT * FROM employees')\n",
    "for row in cursor.fetchall():\n",
    "    print(row)\n",
    "\n",
    "# Close the connection\n",
    "conn.close()"
   ]
  },
  {
   "cell_type": "code",
   "execution_count": 3,
   "id": "b9d11d78",
   "metadata": {},
   "outputs": [
    {
     "ename": "OperationalError",
     "evalue": "wrong number of arguments to function COUNT()",
     "output_type": "error",
     "traceback": [
      "\u001b[0;31m---------------------------------------------------------------------------\u001b[0m",
      "\u001b[0;31mOperationalError\u001b[0m                          Traceback (most recent call last)",
      "Cell \u001b[0;32mIn[3], line 10\u001b[0m\n\u001b[1;32m      7\u001b[0m cursor \u001b[38;5;241m=\u001b[39m conn\u001b[38;5;241m.\u001b[39mcursor()\n\u001b[1;32m      9\u001b[0m \u001b[38;5;66;03m# Step 9: Execute the query to get the distinct count of dept_id and year_hired combinations\u001b[39;00m\n\u001b[0;32m---> 10\u001b[0m cursor\u001b[38;5;241m.\u001b[39mexecute(\u001b[38;5;124m'\u001b[39m\u001b[38;5;124mSELECT COUNT(DISTINCT dept_id, year_hired) AS distinct_count FROM employees\u001b[39m\u001b[38;5;124m'\u001b[39m)\n\u001b[1;32m     12\u001b[0m \u001b[38;5;66;03m# Step 10: Fetch the result\u001b[39;00m\n\u001b[1;32m     13\u001b[0m distinct_count \u001b[38;5;241m=\u001b[39m cursor\u001b[38;5;241m.\u001b[39mfetchone()\n",
      "\u001b[0;31mOperationalError\u001b[0m: wrong number of arguments to function COUNT()"
     ]
    }
   ],
   "source": [
    "import sqlite3\n",
    "\n",
    "# Step 2: Connect to SQLite database named 'company.db'\n",
    "conn = sqlite3.connect('company.db')\n",
    "\n",
    "# Step 3: Create a cursor object\n",
    "cursor = conn.cursor()\n",
    "\n",
    "# Step 9: Execute the query to get the distinct count of dept_id and year_hired combinations\n",
    "cursor.execute('SELECT COUNT(*)\n",
    "FROM (\n",
    "    SELECT DISTINCT dept_id, year_hired\n",
    "    FROM employees\n",
    ") AS distinct_combinations;')\n",
    "\n",
    "# Step 10: Fetch the result\n",
    "distinct_count = cursor.fetchone()\n",
    "\n",
    "# Step 11: Print the distinct count\n",
    "print(\"Distinct count of dept_id and year_hired combinations:\", distinct_count[0])\n",
    "\n",
    "# Step 12: Close the connection\n",
    "conn.close()"
   ]
  },
  {
   "cell_type": "code",
   "execution_count": 7,
   "id": "2460510a",
   "metadata": {},
   "outputs": [
    {
     "name": "stdout",
     "output_type": "stream",
     "text": [
      "Distinct count of dept_id and year_hired combinations: 101\n"
     ]
    }
   ],
   "source": [
    "\n",
    "\n",
    "# Step 12: Close the connection\n",
    "import sqlite3\n",
    "\n",
    "# Step 2: Connect to SQLite database named 'company.db'\n",
    "conn = sqlite3.connect('company.db')\n",
    "\n",
    "# Step 3: Create a cursor object\n",
    "cursor = conn.cursor()\n",
    "\n",
    "# Step 9: Execute the query to get the distinct count of dept_id and year_hired combinations\n",
    "cursor.execute('''\n",
    "    SELECT DISTINCT dept_id, year_hired\n",
    "    FROM employees\n",
    "''')\n",
    "\n",
    "# Step 10: Fetch the result\n",
    "distinct_count = cursor.fetchone()\n",
    "\n",
    "# Step 11: Print the distinct count\n",
    "print(\"Distinct count of dept_id and year_hired combinations:\", distinct_count[0])\n",
    "\n",
    "# Step 12: Close the connection\n",
    "conn.close()"
   ]
  },
  {
   "cell_type": "code",
   "execution_count": 10,
   "id": "c897a373",
   "metadata": {},
   "outputs": [
    {
     "name": "stdout",
     "output_type": "stream",
     "text": [
      "Field names: ['emp_id', 'dept_id', 'year_hired']\n",
      "(1, 101, 2010)\n",
      "(2, 102, 2012)\n",
      "(3, 101, 2010)\n",
      "(4, 103, 2015)\n",
      "(5, 102, 2012)\n"
     ]
    }
   ],
   "source": [
    "\n",
    "import sqlite3\n",
    "\n",
    "# Step 2: Connect to SQLite database named 'library.db'\n",
    "conn = sqlite3.connect('company.db')\n",
    "\n",
    "# Step 3: Create a cursor object\n",
    "cursor = conn.cursor()\n",
    "\n",
    "cursor.execute('''\n",
    "    SELECT * FROM employees\n",
    "''')\n",
    "\n",
    "\n",
    "# Step 5: Fetch all rows from the executed query\n",
    "rows = cursor.fetchall()\n",
    "\n",
    "# Step 6: Get the field names\n",
    "field_names = [description[0] for description in cursor.description]\n",
    "\n",
    "# Step 7: Print the field names\n",
    "print(\"Field names:\", field_names)\n",
    "\n",
    "# Step 8: Print the fetched rows\n",
    "for row in rows:\n",
    "    print(row)\n",
    "\n",
    "# Step 9: Close the connection\n",
    "conn.close()\n",
    "\n"
   ]
  },
  {
   "cell_type": "code",
   "execution_count": 9,
   "id": "ca40cb37",
   "metadata": {},
   "outputs": [
    {
     "name": "stdout",
     "output_type": "stream",
     "text": [
      "Field names: ['dept_id', 'year_hired']\n",
      "(101, 2010)\n",
      "(102, 2012)\n",
      "(103, 2015)\n"
     ]
    }
   ],
   "source": [
    "\n",
    "import sqlite3\n",
    "\n",
    "# Step 2: Connect to SQLite database named 'library.db'\n",
    "conn = sqlite3.connect('company.db')\n",
    "\n",
    "# Step 3: Create a cursor object\n",
    "cursor = conn.cursor()\n",
    "\n",
    "cursor.execute('''\n",
    "    SELECT DISTINCT dept_id, year_hired\n",
    "    FROM employees\n",
    "''')\n",
    "\n",
    "\n",
    "# Step 5: Fetch all rows from the executed query\n",
    "rows = cursor.fetchall()\n",
    "\n",
    "# Step 6: Get the field names\n",
    "field_names = [description[0] for description in cursor.description]\n",
    "\n",
    "# Step 7: Print the field names\n",
    "print(\"Field names:\", field_names)\n",
    "\n",
    "# Step 8: Print the fetched rows\n",
    "for row in rows:\n",
    "    print(row)\n",
    "\n",
    "# Step 9: Close the connection\n",
    "conn.close()\n",
    "\n"
   ]
  },
  {
   "cell_type": "code",
   "execution_count": 11,
   "id": "7f634e23",
   "metadata": {},
   "outputs": [
    {
     "name": "stdout",
     "output_type": "stream",
     "text": [
      "Field names: ['dept_id', 'year_hired', 'count']\n",
      "(101, 2010, 2)\n",
      "(102, 2012, 2)\n",
      "(103, 2015, 1)\n"
     ]
    }
   ],
   "source": [
    "\n",
    "import sqlite3\n",
    "\n",
    "# Step 2: Connect to SQLite database named 'library.db'\n",
    "conn = sqlite3.connect('company.db')\n",
    "\n",
    "# Step 3: Create a cursor object\n",
    "cursor = conn.cursor()\n",
    "\n",
    "cursor.execute('''\n",
    "    SELECT dept_id, year_hired, COUNT(*) as count\n",
    "    FROM employees\n",
    "    GROUP BY dept_id, year_hired\n",
    "''')\n",
    "\n",
    "\n",
    "# Step 5: Fetch all rows from the executed query\n",
    "rows = cursor.fetchall()\n",
    "\n",
    "# Step 6: Get the field names\n",
    "field_names = [description[0] for description in cursor.description]\n",
    "\n",
    "# Step 7: Print the field names\n",
    "print(\"Field names:\", field_names)\n",
    "\n",
    "# Step 8: Print the fetched rows\n",
    "for row in rows:\n",
    "    print(row)\n",
    "\n",
    "# Step 9: Close the connection\n",
    "conn.close()\n",
    "\n"
   ]
  },
  {
   "cell_type": "markdown",
   "id": "a5b18a06",
   "metadata": {},
   "source": [
    "Field names: ['emp_id', 'dept_id', 'year_hired']\n",
    "(1, 101, 2010)\n",
    "(2, 102, 2012)\n",
    "(3, 101, 2010)\n",
    "(4, 103, 2015)\n",
    "(5, 102, 2012)"
   ]
  },
  {
   "cell_type": "code",
   "execution_count": 1,
   "id": "d15ce32a",
   "metadata": {},
   "outputs": [
    {
     "data": {
      "text/html": [
       "<div>\n",
       "<style scoped>\n",
       "    .dataframe tbody tr th:only-of-type {\n",
       "        vertical-align: middle;\n",
       "    }\n",
       "\n",
       "    .dataframe tbody tr th {\n",
       "        vertical-align: top;\n",
       "    }\n",
       "\n",
       "    .dataframe thead th {\n",
       "        text-align: right;\n",
       "    }\n",
       "</style>\n",
       "<table border=\"1\" class=\"dataframe\">\n",
       "  <thead>\n",
       "    <tr style=\"text-align: right;\">\n",
       "      <th></th>\n",
       "      <th>dept_id</th>\n",
       "      <th>year_hired</th>\n",
       "      <th>count</th>\n",
       "    </tr>\n",
       "  </thead>\n",
       "  <tbody>\n",
       "    <tr>\n",
       "      <th>0</th>\n",
       "      <td>101</td>\n",
       "      <td>2010</td>\n",
       "      <td>2</td>\n",
       "    </tr>\n",
       "    <tr>\n",
       "      <th>1</th>\n",
       "      <td>102</td>\n",
       "      <td>2012</td>\n",
       "      <td>2</td>\n",
       "    </tr>\n",
       "    <tr>\n",
       "      <th>2</th>\n",
       "      <td>103</td>\n",
       "      <td>2015</td>\n",
       "      <td>1</td>\n",
       "    </tr>\n",
       "  </tbody>\n",
       "</table>\n",
       "</div>"
      ],
      "text/plain": [
       "   dept_id  year_hired  count\n",
       "0      101        2010      2\n",
       "1      102        2012      2\n",
       "2      103        2015      1"
      ]
     },
     "execution_count": 1,
     "metadata": {},
     "output_type": "execute_result"
    }
   ],
   "source": [
    "import pandas as pd\n",
    "import sqlite3\n",
    "\n",
    "# Step 2: Connect to SQLite database named 'library.db'\n",
    "conn = sqlite3.connect('company.db')\n",
    "\n",
    "# Step 3: Create a cursor object\n",
    "cursor = conn.cursor()\n",
    "\n",
    "cursor.execute('''\n",
    "    SELECT dept_id, year_hired, COUNT(*) as count\n",
    "    FROM employees\n",
    "    GROUP BY dept_id, year_hired\n",
    "''')\n",
    "\n",
    "\n",
    "# Step 5: Fetch all rows from the executed query\n",
    "rows = cursor.fetchall()\n",
    "\n",
    "# Step 6: Get the field names\n",
    "field_names = [description[0] for description in cursor.description]\n",
    "\n",
    "# Step 7: Print the field names\n",
    "df = pd.DataFrame(rows, columns=field_names)\n",
    "\n",
    "# Step 9: Close the connection\n",
    "conn.close()\n",
    "\n",
    "df"
   ]
  },
  {
   "cell_type": "code",
   "execution_count": 2,
   "id": "2d493dca",
   "metadata": {},
   "outputs": [
    {
     "data": {
      "text/html": [
       "<div>\n",
       "<style scoped>\n",
       "    .dataframe tbody tr th:only-of-type {\n",
       "        vertical-align: middle;\n",
       "    }\n",
       "\n",
       "    .dataframe tbody tr th {\n",
       "        vertical-align: top;\n",
       "    }\n",
       "\n",
       "    .dataframe thead th {\n",
       "        text-align: right;\n",
       "    }\n",
       "</style>\n",
       "<table border=\"1\" class=\"dataframe\">\n",
       "  <thead>\n",
       "    <tr style=\"text-align: right;\">\n",
       "      <th></th>\n",
       "      <th>emp_id</th>\n",
       "      <th>dept_id</th>\n",
       "      <th>year_hired</th>\n",
       "    </tr>\n",
       "  </thead>\n",
       "  <tbody>\n",
       "    <tr>\n",
       "      <th>0</th>\n",
       "      <td>1</td>\n",
       "      <td>101</td>\n",
       "      <td>2010</td>\n",
       "    </tr>\n",
       "    <tr>\n",
       "      <th>1</th>\n",
       "      <td>2</td>\n",
       "      <td>102</td>\n",
       "      <td>2012</td>\n",
       "    </tr>\n",
       "  </tbody>\n",
       "</table>\n",
       "</div>"
      ],
      "text/plain": [
       "   emp_id  dept_id  year_hired\n",
       "0       1      101        2010\n",
       "1       2      102        2012"
      ]
     },
     "execution_count": 2,
     "metadata": {},
     "output_type": "execute_result"
    }
   ],
   "source": [
    "import pandas as pd\n",
    "import sqlite3\n",
    "\n",
    "# Step 2: Connect to SQLite database named 'library.db'\n",
    "conn = sqlite3.connect('company.db')\n",
    "\n",
    "# Step 3: Create a cursor object\n",
    "cursor = conn.cursor()\n",
    "\n",
    "cursor.execute('''\n",
    "    SELECT * FROM employees\n",
    "    LIMIT 2\n",
    "''')\n",
    "\n",
    "\n",
    "# Step 5: Fetch all rows from the executed query\n",
    "rows = cursor.fetchall()\n",
    "\n",
    "# Step 6: Get the field names\n",
    "field_names = [description[0] for description in cursor.description]\n",
    "\n",
    "# Step 7: Print the field names\n",
    "df = pd.DataFrame(rows, columns=field_names)\n",
    "\n",
    "# Step 9: Close the connection\n",
    "conn.close()\n",
    "\n",
    "df"
   ]
  },
  {
   "cell_type": "markdown",
   "id": "7a68bc9a",
   "metadata": {},
   "source": [
    "CREATE VIEW employee_hire_years AS\n",
    "SELECT emp_id, name, year_hired\n",
    "FROM employees;\n",
    "\n",
    "then can select from employee_hire_years\n",
    "\n",
    "SELECT id, name\n",
    "FROM employee_hire_years\n",
    "\n",
    "Views can change as the data gets updated"
   ]
  },
  {
   "cell_type": "markdown",
   "id": "e7b06781",
   "metadata": {},
   "source": [
    "-- Select unique authors and genre combinations from the books table\n",
    "SELECT DISTINCT author, genre\n",
    "FROM books;\n",
    "returns 249\n",
    "\n",
    "SELECT * FROM books, returns 350\n",
    "\n",
    "\n"
   ]
  },
  {
   "cell_type": "markdown",
   "id": "399709fb",
   "metadata": {},
   "source": [
    "-- Your code to create the view:\n",
    "CREATE VIEW library_authors AS\n",
    "SELECT DISTINCT author AS unique_author\n",
    "FROM books;\n",
    "\n",
    "-- Select all columns from library_authors\n",
    "SELECT * FROM library_authors"
   ]
  }
 ],
 "metadata": {
  "kernelspec": {
   "display_name": "Python 3 (ipykernel)",
   "language": "python",
   "name": "python3"
  },
  "language_info": {
   "codemirror_mode": {
    "name": "ipython",
    "version": 3
   },
   "file_extension": ".py",
   "mimetype": "text/x-python",
   "name": "python",
   "nbconvert_exporter": "python",
   "pygments_lexer": "ipython3",
   "version": "3.11.5"
  }
 },
 "nbformat": 4,
 "nbformat_minor": 5
}
